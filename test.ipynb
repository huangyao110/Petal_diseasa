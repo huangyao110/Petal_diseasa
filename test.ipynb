{
 "cells": [
  {
   "cell_type": "code",
   "execution_count": null,
   "metadata": {},
   "outputs": [
    {
     "name": "stderr",
     "output_type": "stream",
     "text": [
      "WARNING:detectron2.config.compat:Config 'configs\\Base-TridentNet-Fast-C4.yaml' has no VERSION. Assuming it to be compatible with latest v2.\n"
     ]
    }
   ],
   "source": [
    "from inference import InferenceRoseDisease, ImageVisualizer\n",
    "\n",
    "cfg_file = r\"configs\\Base-TridentNet-Fast-C4.yaml\"\n",
    "crop_weight = r'weights_from_online\\STEP1_PETAL_CROP_TRIDENTENT.pth'\n",
    "petal_weights_file = r'weights_from_online\\STEP2_PETAL_SEG_REGNETX_032_UNET.ckpt'\n",
    "diease_weights_file = r'weights_from_online\\STEP3_DISEASE_SEG_REGNETX_032_UNET.ckpt'\n",
    "infer = InferenceRoseDisease(\n",
    "            cfg_file,\n",
    "            petal_encoder_name=\"timm-regnetx_032\",\n",
    "            petal_decoder_name=\"unet\",\n",
    "            disease_encoder_name='timm-regnetx_032',\n",
    "            disease_decoder_name=\"unet\",\n",
    "            crop_weight=crop_weight,\n",
    "            petal_weights_file=petal_weights_file,\n",
    "            diease_weights_file=diease_weights_file,\n",
    "            device=\"cuda\",\n",
    "            box_threshold=0.5,\n",
    "            crop_img_size=(512, 512),\n",
    "            mask_threshold=0.5,\n",
    "            img_dir=None, \n",
    "            img_file=None)\n",
    "# model_path = r'logs\\EX-2025-03-10-step3(disease seg)\\version_12\\checkpoints\\epoch=51-step=37596.ckpt'\n",
    "# val_img_dir = r\"data\\petals_data\\val\\img\"\n",
    "# val_mask_dir = r\"data\\petals_data\\val\\img\"\n",
    "# visualize_predictions(model_path, val_img_dir, val_mask_dir, encoder_name, out_classes=out_classes)"
   ]
  },
  {
   "cell_type": "code",
   "execution_count": 10,
   "metadata": {},
   "outputs": [],
   "source": [
    "infer.step1_crop_img(img_file=r\"D:\\2025\\data\\petal_from_cxq\\60h\\DSC09249.JPG\",\n",
    "            save_dir=\"./demo71/\")"
   ]
  },
  {
   "cell_type": "code",
   "execution_count": 11,
   "metadata": {},
   "outputs": [],
   "source": [
    "import os\n",
    "for i in [os.path.join('./demo71/', j) for j in os.listdir(r'./demo71/')]:\n",
    "    if i.endswith('jpg'):\n",
    "        infer.step2_seg_petal(\n",
    "            img_file=i, save_dir=r'./demo71/petal_seg/')"
   ]
  },
  {
   "cell_type": "code",
   "execution_count": 12,
   "metadata": {},
   "outputs": [],
   "source": [
    "for i in [os.path.join('./demo71/', j) for j in os.listdir(r'./demo71/')]:\n",
    "    if i.endswith('jpg'):\n",
    "        infer.step3_seg_disease(\n",
    "            img_file=i, save_dir=r'./demo71/petal_disease/')"
   ]
  }
 ],
 "metadata": {
  "kernelspec": {
   "display_name": "det2",
   "language": "python",
   "name": "python3"
  },
  "language_info": {
   "codemirror_mode": {
    "name": "ipython",
    "version": 3
   },
   "file_extension": ".py",
   "mimetype": "text/x-python",
   "name": "python",
   "nbconvert_exporter": "python",
   "pygments_lexer": "ipython3",
   "version": "3.8.19"
  }
 },
 "nbformat": 4,
 "nbformat_minor": 2
}
